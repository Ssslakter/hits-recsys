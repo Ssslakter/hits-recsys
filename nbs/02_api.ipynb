{
 "cells": [
  {
   "cell_type": "code",
   "execution_count": null,
   "metadata": {},
   "outputs": [],
   "source": [
    "#| default_exp api"
   ]
  },
  {
   "cell_type": "code",
   "execution_count": null,
   "metadata": {},
   "outputs": [],
   "source": [
    "#|hide\n",
    "from fastdownload import FastDownload"
   ]
  },
  {
   "cell_type": "code",
   "execution_count": null,
   "metadata": {},
   "outputs": [],
   "source": [
    "#|export\n",
    "from collections import deque\n",
    "import logging as l\n",
    "from fastcore.all import *\n",
    "from hits_recsys.collab import *\n",
    "from pathlib import Path\n",
    "from typing import Optional\n",
    "from fastapi import FastAPI\n",
    "from pydantic import BaseModel\n",
    "from importlib import metadata\n",
    "import uvicorn\n",
    "from datetime import date"
   ]
  },
  {
   "cell_type": "code",
   "execution_count": null,
   "metadata": {},
   "outputs": [],
   "source": [
    "res = ModelService.from_folder('models')"
   ]
  },
  {
   "cell_type": "code",
   "execution_count": null,
   "metadata": {},
   "outputs": [],
   "source": [
    "#|export\n",
    "@call_parse\n",
    "def cli(optype, # operation to peroform, one of 'train', 'eval' or 'pred'\n",
    "        r_path, # path to dataset with ratings\n",
    "        m_path,  # path to dataset with movie titles\n",
    "        model: Optional[Path]=None, # path to model if not train\n",
    "        out: Path = './model/out.pkl'):  # path for output model, by default will save to './out.pkl'\n",
    "    assert optype in ['train','eval','pred'], 'incorrect operation type'\n",
    "    \n",
    "    if model: \n",
    "        l.info(f\"Loading model from {model}\")\n",
    "        serv = ModelService.from_folder(model)\n",
    "    \n",
    "    l.info(f\"loading datasets from {r_path} and {m_path}\")\n",
    "    ds = TfmdDataset(read_movielens(r_path,m_path))\n",
    "    l.info(f\"datasets loaded\")\n",
    "\n",
    "    l.info(f\"start operation: {optype}\")\n",
    "    if optype=='train':\n",
    "        serv = ModelService(CollabUserBased(), ds)\n",
    "        serv.train(ds, CollabUserBased())\n",
    "        l.info(f\"model trained\")\n",
    "        serv.save(out)\n",
    "        l.info(f\"model saved to {out}\")\n",
    "    elif not serv.model:\n",
    "        l.error(\"You are trying to run model without providing correct model path\")\n",
    "    if optype=='eval':\n",
    "        loss = serv.eval(ds)\n",
    "        l.info(f\"loss = {loss.item()}\")\n",
    "    if optype=='pred':\n",
    "        res = serv.pred(ds)\n",
    "        with open(out, 'w') as f:\n",
    "            f.writelines([f\"{line}\\n\" for line in res])\n",
    "        l.info(f\"preds are saved to {out}\")"
   ]
  },
  {
   "cell_type": "code",
   "execution_count": null,
   "metadata": {},
   "outputs": [],
   "source": [
    "url = 'https://raw.githubusercontent.com/MenshikovDmitry/TSU_AI_Course/main/module_1.%20Recommender%2BDevOps/dataset/'\n",
    "files = ('ratings_train.dat ratings_test.dat movies.dat users.dat').split()\n",
    "d = FastDownload()"
   ]
  },
  {
   "cell_type": "code",
   "execution_count": null,
   "metadata": {},
   "outputs": [
    {
     "data": {
      "text/plain": [
       "(#4) [Path('/home/slakter/.fastdownload/archive/ratings_train.dat'),Path('/home/slakter/.fastdownload/archive/ratings_test.dat'),Path('/home/slakter/.fastdownload/archive/movies.dat'),Path('/home/slakter/.fastdownload/archive/users.dat')]"
      ]
     },
     "execution_count": null,
     "metadata": {},
     "output_type": "execute_result"
    }
   ],
   "source": [
    "paths = L(d.download(url+f) for f in files); paths"
   ]
  },
  {
   "cell_type": "code",
   "execution_count": null,
   "metadata": {},
   "outputs": [],
   "source": [
    "cli('train', paths[0],paths[2], out='../models')"
   ]
  },
  {
   "cell_type": "code",
   "execution_count": null,
   "metadata": {},
   "outputs": [
    {
     "data": {
      "text/html": [
       "\n",
       "<style>\n",
       "    /* Turns off some styling */\n",
       "    progress {\n",
       "        /* gets rid of default border in Firefox and Opera. */\n",
       "        border: none;\n",
       "        /* Needs to be in here for Safari polyfill so background images work as expected. */\n",
       "        background-size: auto;\n",
       "    }\n",
       "    progress:not([value]), progress:not([value])::-webkit-progress-bar {\n",
       "        background: repeating-linear-gradient(45deg, #7e7e7e, #7e7e7e 10px, #5c5c5c 10px, #5c5c5c 20px);\n",
       "    }\n",
       "    .progress-bar-interrupted, .progress-bar-interrupted::-webkit-progress-bar {\n",
       "        background: #F44336;\n",
       "    }\n",
       "</style>\n"
      ],
      "text/plain": [
       "<IPython.core.display.HTML object>"
      ]
     },
     "metadata": {},
     "output_type": "display_data"
    },
    {
     "data": {
      "text/html": [
       "\n",
       "    <div>\n",
       "      <progress value='7' class='' max='7' style='width:300px; height:20px; vertical-align: middle;'></progress>\n",
       "      100.00% [7/7 00:01&lt;00:00]\n",
       "    </div>\n",
       "    "
      ],
      "text/plain": [
       "<IPython.core.display.HTML object>"
      ]
     },
     "metadata": {},
     "output_type": "display_data"
    }
   ],
   "source": [
    "cli('pred', paths[1], paths[2], './models', './out.txt')"
   ]
  },
  {
   "cell_type": "markdown",
   "metadata": {},
   "source": [
    "## Web server"
   ]
  },
  {
   "cell_type": "code",
   "execution_count": null,
   "metadata": {},
   "outputs": [],
   "source": [
    "#|export\n",
    "class PredictRequest(BaseModel):\n",
    "    movie_names: list\n",
    "    ratings: list"
   ]
  },
  {
   "cell_type": "code",
   "execution_count": null,
   "metadata": {},
   "outputs": [],
   "source": [
    "#|export\n",
    "\n",
    "def add_routes(app, serv):\n",
    "    @app.get(\"/api/predict\")\n",
    "    async def predict(body: PredictRequest):\n",
    "        return serv.recommend(body.movie_names, body.ratings, 20)\n",
    "\n",
    "    @app.post(\"/api/reload\")\n",
    "    async def reload(): \n",
    "        serv.load(app.location)\n",
    "        l.info(\"model reloaded\")\n",
    "\n",
    "    @app.get(\"/api/similar\")\n",
    "    async def similar(movie_name: str):\n",
    "        l.info(f\"getting similar movies to {movie_name}\")\n",
    "        try:\n",
    "            return serv.similar_movies(movie_name)\n",
    "        except KeyError:\n",
    "            return {\"error\": f\"Movie {movie_name} not found\"}\n",
    "    \n",
    "    @app.get(\"/api/movies\")\n",
    "    async def movies(prefix:str, page:int=0):\n",
    "        l = [m for m in serv.ds.movie_map if m.startswith(prefix)]\n",
    "        return l[min(20*page,len(l)):min(20*(page+1),len(l))]\n",
    "    \n",
    "    @app.get(\"/api/info\")\n",
    "    async def info():\n",
    "        return dict(metadata.metadata('hits-recsys'))"
   ]
  },
  {
   "cell_type": "code",
   "execution_count": null,
   "metadata": {},
   "outputs": [],
   "source": [
    "# |export\n",
    "DEF_FMT = '%(asctime)s - %(name)s - %(levelname)s - %(message)s'\n",
    "\n",
    "def init_logger(name: str = None, level=l.INFO, format: str = None, handlers: list = [], logs_dir='./logs'):\n",
    "    handlers.append(l.StreamHandler())\n",
    "    if logs_dir: \n",
    "        p = Path(logs_dir)/f'{date.today()}.log'\n",
    "        p.parent.mkdir(parents=True, exist_ok=True)\n",
    "        handlers.append(l.FileHandler(p)) \n",
    "    log_fmt = l.Formatter(ifnone(format, DEF_FMT), datefmt='%Y-%m-%d %H:%M:%S')\n",
    "    log = l.getLogger(name)\n",
    "    log.setLevel(level)\n",
    "    log.handlers.clear()\n",
    "    for h in handlers: h.setFormatter(log_fmt); log.addHandler(h)"
   ]
  },
  {
   "cell_type": "code",
   "execution_count": null,
   "metadata": {},
   "outputs": [],
   "source": [
    "#|export\n",
    "class LoggingQueue(deque):\n",
    "    def put_nowait(self, rec): self.append(rec.message)"
   ]
  },
  {
   "cell_type": "code",
   "execution_count": null,
   "metadata": {},
   "outputs": [],
   "source": [
    "q = LoggingQueue([],3)\n",
    "init_logger(handlers=[l.handlers.QueueHandler(q)])"
   ]
  },
  {
   "cell_type": "code",
   "execution_count": null,
   "metadata": {},
   "outputs": [
    {
     "name": "stderr",
     "output_type": "stream",
     "text": [
      "2024-03-16 13:05:02 - root - INFO - test 1\n",
      "2024-03-16 13:05:02 - root - INFO - test 2\n",
      "2024-03-16 13:05:02 - root - INFO - test 3\n"
     ]
    }
   ],
   "source": [
    "l.info(\"test 1\")\n",
    "l.info(\"test 2\")\n",
    "l.info(\"test 3\")"
   ]
  },
  {
   "cell_type": "code",
   "execution_count": null,
   "metadata": {},
   "outputs": [
    {
     "name": "stdout",
     "output_type": "stream",
     "text": [
      "2024-03-16 13:05:02 - root - INFO - test 1\n",
      "2024-03-16 13:05:02 - root - INFO - test 2\n",
      "2024-03-16 13:05:02 - root - INFO - test 3\n"
     ]
    }
   ],
   "source": [
    "L(q).pprint()"
   ]
  },
  {
   "cell_type": "code",
   "execution_count": null,
   "metadata": {},
   "outputs": [],
   "source": [
    "#|export\n",
    "def add_logging(app, q): \n",
    "    @app.get(\"/api/log\")\n",
    "    async def log(page: int = -1, n_logs: int = 20):\n",
    "        logs = list(q)[page*n_logs : (page+1)*n_logs]\n",
    "        return {'logs': logs}"
   ]
  },
  {
   "cell_type": "code",
   "execution_count": null,
   "metadata": {},
   "outputs": [],
   "source": [
    "#|export\n",
    "@call_parse\n",
    "def serve(host='127.0.0.1',\n",
    "          port=5000, # port to listen on\n",
    "          model_dir='./models', # directory to load model from\n",
    "          logs_dir='./logs'): # logs directory\n",
    "    \n",
    "    q = LoggingQueue([], 20)\n",
    "    init_logger(handlers=[l.handlers.QueueHandler(q)], logs_dir=logs_dir)\n",
    "    app = FastAPI()\n",
    "    serv = ModelService.from_folder(model_dir)\n",
    "    if not serv.model: \n",
    "          l.error(\"You are trying to run model without providing correct model path! Shutting down...\")\n",
    "          return\n",
    "    app.location = model_dir\n",
    "    add_routes(app, serv)\n",
    "    add_logging(app,q)\n",
    "    serv.save(model_dir)\n",
    "    if in_notebook(): \n",
    "          import nest_asyncio\n",
    "          nest_asyncio.apply()\n",
    "    cfg = uvicorn.Config(app, host=host, port=port, log_config=None)\n",
    "    server = uvicorn.Server(cfg)\n",
    "    server.run()"
   ]
  },
  {
   "cell_type": "code",
   "execution_count": null,
   "metadata": {},
   "outputs": [
    {
     "name": "stderr",
     "output_type": "stream",
     "text": [
      "2024-03-16 13:05:02 - uvicorn.error - INFO - Started server process [58943]\n",
      "2024-03-16 13:05:02 - uvicorn.error - INFO - Waiting for application startup.\n",
      "2024-03-16 13:05:02 - uvicorn.error - INFO - Application startup complete.\n",
      "2024-03-16 13:05:02 - uvicorn.error - INFO - Uvicorn running on http://127.0.0.1:5000 (Press CTRL+C to quit)\n"
     ]
    },
    {
     "name": "stderr",
     "output_type": "stream",
     "text": [
      "2024-03-16 13:05:26 - uvicorn.access - INFO - 127.0.0.1:57032 - \"GET /api/log HTTP/1.1\" 200\n",
      "2024-03-16 13:05:33 - uvicorn.access - INFO - 127.0.0.1:57048 - \"GET /api/info HTTP/1.1\" 200\n",
      "2024-03-16 13:05:35 - uvicorn.access - INFO - 127.0.0.1:33674 - \"GET /api/predict HTTP/1.1\" 200\n",
      "2024-03-16 13:05:37 - uvicorn.access - INFO - 127.0.0.1:33676 - \"GET /api/log HTTP/1.1\" 200\n",
      "2024-03-16 13:05:46 - uvicorn.error - INFO - Shutting down\n",
      "2024-03-16 13:05:46 - uvicorn.error - INFO - Waiting for application shutdown.\n",
      "2024-03-16 13:05:46 - uvicorn.error - INFO - Application shutdown complete.\n",
      "2024-03-16 13:05:46 - uvicorn.error - INFO - Finished server process [58943]\n"
     ]
    }
   ],
   "source": [
    "serve(5000,'./models')"
   ]
  }
 ],
 "metadata": {
  "kernelspec": {
   "display_name": "python3",
   "language": "python",
   "name": "python3"
  }
 },
 "nbformat": 4,
 "nbformat_minor": 2
}
