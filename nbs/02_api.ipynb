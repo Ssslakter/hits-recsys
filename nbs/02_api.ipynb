{
 "cells": [
  {
   "cell_type": "code",
   "execution_count": 1,
   "metadata": {},
   "outputs": [],
   "source": [
    "#| default_exp api"
   ]
  },
  {
   "cell_type": "code",
   "execution_count": 2,
   "metadata": {},
   "outputs": [],
   "source": [
    "#|hide\n",
    "from fastdownload import FastDownload"
   ]
  },
  {
   "cell_type": "code",
   "execution_count": 3,
   "metadata": {},
   "outputs": [],
   "source": [
    "#|export\n",
    "import pandas as pd\n",
    "import logging\n",
    "from fastcore.all import *\n",
    "from hits_recsys.collab import *\n",
    "from pathlib import Path\n",
    "from typing import Literal, Optional\n",
    "from fastai.collab import CollabDataLoaders, to_device"
   ]
  },
  {
   "cell_type": "code",
   "execution_count": null,
   "metadata": {},
   "outputs": [],
   "source": [
    "#|export\n",
    "class CollabModelService:\n",
    "    def __init__(self, df, model) -> None:\n",
    "        pass\n",
    "    def predict(self, movie_names, ratings):\n",
    "        self.movies.encode(movie_names)"
   ]
  },
  {
   "cell_type": "code",
   "execution_count": 4,
   "metadata": {},
   "outputs": [],
   "source": [
    "#|export\n",
    "@call_parse\n",
    "def cli(optype, # operation to peroform, one of 'train', 'eval' or 'pred'\n",
    "        r_path, # path to dataset with ratings\n",
    "        m_path,  # path to dataset with movie titles\n",
    "        model: Optional[Path]=None, # path to model if not train\n",
    "        out: Path = './out.pkl'):  # path for output model, by default will save to './out.pkl'\n",
    "    assert optype in ['train','eval','pred'], 'incorrect operation type'\n",
    "    \n",
    "    logging.info(f\"loading datasets from {r_path} and {m_path}\")\n",
    "    df = read_movielens(r_path,m_path)\n",
    "    logging.info(f\"datasets loaded\")\n",
    "    \n",
    "    dls = dataloaders(df)\n",
    "    m = CollabUserBased()\n",
    "    \n",
    "    logging.info(f\"start operation: {optype}\")\n",
    "    if optype=='train':\n",
    "        train(m, dls, out)\n",
    "        logging.info(f\"model trained and saved to {out}\")\n",
    "   \n",
    "    assert model is not None, 'model path must be not None'\n",
    "    m.load(model)\n",
    "    if optype=='eval':\n",
    "        dls = dataloaders(df, bs=1024)\n",
    "        loss = eval(m,dls.train)\n",
    "        logging.info(f\"loss = {loss.item()}\")\n",
    "    if optype=='pred':\n",
    "        tdl = dls.test_dl(df[['userId','title']],bs=1024)\n",
    "        preds = pred(m,tdl).tolist()\n",
    "        res = pd.Series(preds)\n",
    "        res.to_csv(out)\n",
    "        logging.info(f\"preds are saved to {out}\")"
   ]
  },
  {
   "cell_type": "code",
   "execution_count": 5,
   "metadata": {},
   "outputs": [],
   "source": [
    "url = 'https://raw.githubusercontent.com/MenshikovDmitry/TSU_AI_Course/main/module_1.%20Recommender%2BDevOps/dataset/'\n",
    "files = ('ratings_train.dat ratings_test.dat movies.dat users.dat').split()\n",
    "d = FastDownload()"
   ]
  },
  {
   "cell_type": "code",
   "execution_count": 6,
   "metadata": {},
   "outputs": [
    {
     "data": {
      "text/plain": [
       "(#4) [Path('/home/slakter/.fastdownload/archive/ratings_train.dat'),Path('/home/slakter/.fastdownload/archive/ratings_test.dat'),Path('/home/slakter/.fastdownload/archive/movies.dat'),Path('/home/slakter/.fastdownload/archive/users.dat')]"
      ]
     },
     "execution_count": 6,
     "metadata": {},
     "output_type": "execute_result"
    }
   ],
   "source": [
    "paths = L(d.download(url+f) for f in files); paths"
   ]
  },
  {
   "cell_type": "code",
   "execution_count": 7,
   "metadata": {},
   "outputs": [],
   "source": [
    "import logging\n",
    "logger = logging.getLogger()\n",
    "logger.setLevel(logging.INFO)"
   ]
  },
  {
   "cell_type": "code",
   "execution_count": 8,
   "metadata": {},
   "outputs": [
    {
     "name": "stderr",
     "output_type": "stream",
     "text": [
      "INFO:root:loading datasets from /home/slakter/.fastdownload/archive/ratings_test.dat and /home/slakter/.fastdownload/archive/movies.dat\n",
      "INFO:root:datasets loaded\n",
      "INFO:root:start operation: pred\n"
     ]
    },
    {
     "data": {
      "text/html": [
       "\n",
       "<style>\n",
       "    /* Turns off some styling */\n",
       "    progress {\n",
       "        /* gets rid of default border in Firefox and Opera. */\n",
       "        border: none;\n",
       "        /* Needs to be in here for Safari polyfill so background images work as expected. */\n",
       "        background-size: auto;\n",
       "    }\n",
       "    progress:not([value]), progress:not([value])::-webkit-progress-bar {\n",
       "        background: repeating-linear-gradient(45deg, #7e7e7e, #7e7e7e 10px, #5c5c5c 10px, #5c5c5c 20px);\n",
       "    }\n",
       "    .progress-bar-interrupted, .progress-bar-interrupted::-webkit-progress-bar {\n",
       "        background: #F44336;\n",
       "    }\n",
       "</style>\n"
      ],
      "text/plain": [
       "<IPython.core.display.HTML object>"
      ]
     },
     "metadata": {},
     "output_type": "display_data"
    },
    {
     "data": {
      "text/html": [
       "\n",
       "    <div>\n",
       "      <progress value='49' class='' max='49' style='width:300px; height:20px; vertical-align: middle;'></progress>\n",
       "      100.00% [49/49 00:01&lt;00:00]\n",
       "    </div>\n",
       "    "
      ],
      "text/plain": [
       "<IPython.core.display.HTML object>"
      ]
     },
     "metadata": {},
     "output_type": "display_data"
    },
    {
     "name": "stderr",
     "output_type": "stream",
     "text": [
      "INFO:root:preds are saved to ./out.csv\n"
     ]
    }
   ],
   "source": [
    "cli('pred', paths[1], paths[2], './out.pkl', './out.csv')"
   ]
  },
  {
   "cell_type": "markdown",
   "metadata": {},
   "source": [
    "## Web server"
   ]
  },
  {
   "cell_type": "code",
   "execution_count": 12,
   "metadata": {},
   "outputs": [],
   "source": [
    "from fastapi import FastAPI\n",
    "from importlib import metadata"
   ]
  },
  {
   "cell_type": "code",
   "execution_count": 9,
   "metadata": {},
   "outputs": [],
   "source": [
    "app = FastAPI()\n",
    "\n",
    "@app.get(\"/api/predict\")\n",
    "async def predict(movie_names: list, ratings: list):\n",
    "    return {\"message\": \"Hello World\"}\n",
    "\n",
    "@app.get(\"/api/reload\")\n",
    "async def reload():\n",
    "    return {\"message\": \"Hello World\"}\n",
    "\n",
    "@app.get(\"/api/similar\")\n",
    "async def similar():\n",
    "    return {\"message\": \"Hello World\"}\n"
   ]
  },
  {
   "cell_type": "code",
   "execution_count": null,
   "metadata": {},
   "outputs": [],
   "source": [
    "@app.get(\"/api/info\")\n",
    "async def info():\n",
    "    return dict(metadata.metadata('hits-recsys'))\n",
    "\n",
    "@app.get(\"/api/log\")\n",
    "async def log():\n",
    "    return "
   ]
  },
  {
   "cell_type": "code",
   "execution_count": null,
   "metadata": {},
   "outputs": [],
   "source": [
    "import nest_asyncio\n",
    "import uvicorn\n",
    "\n",
    "if __name__ == \"__main__\":\n",
    "    nest_asyncio.apply()\n",
    "    uvicorn.run(app,port=8080)"
   ]
  }
 ],
 "metadata": {
  "kernelspec": {
   "display_name": "python3",
   "language": "python",
   "name": "python3"
  },
  "language_info": {
   "codemirror_mode": {
    "name": "ipython",
    "version": 3
   },
   "file_extension": ".py",
   "mimetype": "text/x-python",
   "name": "python",
   "nbconvert_exporter": "python",
   "pygments_lexer": "ipython3",
   "version": "3.11.8"
  }
 },
 "nbformat": 4,
 "nbformat_minor": 2
}
