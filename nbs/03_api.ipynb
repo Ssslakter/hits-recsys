{
 "cells": [
  {
   "cell_type": "code",
   "execution_count": null,
   "metadata": {},
   "outputs": [],
   "source": [
    "#| default_exp api"
   ]
  },
  {
   "cell_type": "code",
   "execution_count": null,
   "metadata": {},
   "outputs": [],
   "source": [
    "#|export\n",
    "import pandas as pd\n",
    "import logging\n",
    "from fastcore.all import *\n",
    "from hits_recsys.collab import *\n",
    "from pathlib import Path\n",
    "from typing import Literal, Optional\n",
    "from fastai.collab import CollabDataLoaders, to_device"
   ]
  },
  {
   "cell_type": "code",
   "execution_count": null,
   "metadata": {},
   "outputs": [],
   "source": [
    "#|export\n",
    "@call_parse\n",
    "def cli(type: Literal['trian','eval','pred'], \n",
    "        ratings_path=Path('./data/ratings.dat'), \n",
    "        movies_path=Path('./data/movies.dat'),\n",
    "        model: Optional[Path]=None,\n",
    "        out: Path = None):\n",
    "    \n",
    "    if not pred: df = read_movielens(ratings_path,movies_path)\n",
    "    else: df = pd.read_csv()\n",
    "    dls = CollabDataLoaders.from_df(df, item_name='title', bs=64,valid_pct=0.0)\n",
    "    m = CollabUserBased()\n",
    "    \n",
    "    logging.info(f\"loaded ratings and movies from {ratings_path} and {movies_path}\")\n",
    "    if type=='train':\n",
    "        train(m, dls, out)\n",
    "    if type=='eval':\n",
    "        loss = eval(m,dls,model)\n",
    "        logging.info(f\"loss = {loss.item()}\")\n",
    "    if type=='pred':\n",
    "        preds = pred(m,dls,model)\n",
    "        preds.save()"
   ]
  },
  {
   "cell_type": "code",
   "execution_count": null,
   "metadata": {},
   "outputs": [],
   "source": []
  }
 ],
 "metadata": {
  "kernelspec": {
   "display_name": "python3",
   "language": "python",
   "name": "python3"
  }
 },
 "nbformat": 4,
 "nbformat_minor": 2
}
