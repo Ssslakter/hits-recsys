{
 "cells": [
  {
   "cell_type": "markdown",
   "metadata": {},
   "source": [
    "# Collaborative filtering\n",
    "\n",
    "> Recsys algorithom from explicit reviews"
   ]
  },
  {
   "cell_type": "code",
   "execution_count": 2,
   "metadata": {},
   "outputs": [],
   "source": [
    "#| default_exp collab"
   ]
  },
  {
   "cell_type": "code",
   "execution_count": 3,
   "metadata": {},
   "outputs": [],
   "source": [
    "#| hide\n",
    "from nbdev.showdoc import *\n",
    "from fastcore.all import *\n",
    "from fastprogress.fastprogress import progress_bar\n",
    "from fastdownload import FastDownload\n",
    "from fastai.tabular.all import *\n",
    "from fastai.tabular.all import *\n",
    "from fastai.collab import *"
   ]
  },
  {
   "cell_type": "code",
   "execution_count": 4,
   "metadata": {},
   "outputs": [],
   "source": [
    "#|export\n",
    "from fastprogress.fastprogress import progress_bar\n",
    "import pandas as pd\n",
    "import torch, torch.nn.functional as F\n",
    "from torch import tensor\n",
    "from fastai.collab import to_device, default_device, CollabDataLoaders\n",
    "from fastcore.all import *"
   ]
  },
  {
   "cell_type": "markdown",
   "metadata": {},
   "source": [
    "Load data from url"
   ]
  },
  {
   "cell_type": "code",
   "execution_count": 5,
   "metadata": {},
   "outputs": [],
   "source": [
    "url = 'https://raw.githubusercontent.com/MenshikovDmitry/TSU_AI_Course/main/module_1.%20Recommender%2BDevOps/dataset/'\n",
    "files = ('ratings_train.dat ratings_test.dat movies.dat users.dat').split()\n",
    "d = FastDownload()"
   ]
  },
  {
   "cell_type": "code",
   "execution_count": 6,
   "metadata": {},
   "outputs": [
    {
     "data": {
      "text/plain": [
       "(#4) [Path('/home/slakter/.fastdownload/archive/ratings_train.dat'),Path('/home/slakter/.fastdownload/archive/ratings_test.dat'),Path('/home/slakter/.fastdownload/archive/movies.dat'),Path('/home/slakter/.fastdownload/archive/users.dat')]"
      ]
     },
     "execution_count": 6,
     "metadata": {},
     "output_type": "execute_result"
    }
   ],
   "source": [
    "paths = L(d.download(url+f) for f in files); paths"
   ]
  },
  {
   "cell_type": "code",
   "execution_count": 7,
   "metadata": {},
   "outputs": [],
   "source": [
    "#|export\n",
    "def read_movielens(ratings_path, movies_path):\n",
    "    kw1 = dict(sep='::', names = ['userId','movieId','rating'], usecols=(0,1,2), engine='python')\n",
    "    kw2 = kw1 | dict(names = ['movieId','title'], usecols=(0,1), encoding='ISO-8859-1')\n",
    "    r, m = pd.read_csv(ratings_path, **kw1), pd.read_csv(movies_path, **kw2)\n",
    "    return r.merge(m)"
   ]
  },
  {
   "cell_type": "code",
   "execution_count": 8,
   "metadata": {},
   "outputs": [
    {
     "data": {
      "text/html": [
       "<div>\n",
       "<style scoped>\n",
       "    .dataframe tbody tr th:only-of-type {\n",
       "        vertical-align: middle;\n",
       "    }\n",
       "\n",
       "    .dataframe tbody tr th {\n",
       "        vertical-align: top;\n",
       "    }\n",
       "\n",
       "    .dataframe thead th {\n",
       "        text-align: right;\n",
       "    }\n",
       "</style>\n",
       "<table border=\"1\" class=\"dataframe\">\n",
       "  <thead>\n",
       "    <tr style=\"text-align: right;\">\n",
       "      <th></th>\n",
       "      <th>userId</th>\n",
       "      <th>movieId</th>\n",
       "      <th>rating</th>\n",
       "      <th>title</th>\n",
       "    </tr>\n",
       "  </thead>\n",
       "  <tbody>\n",
       "    <tr>\n",
       "      <th>0</th>\n",
       "      <td>3539</td>\n",
       "      <td>2478</td>\n",
       "      <td>5</td>\n",
       "      <td>Three Amigos! (1986)</td>\n",
       "    </tr>\n",
       "    <tr>\n",
       "      <th>1</th>\n",
       "      <td>1358</td>\n",
       "      <td>2478</td>\n",
       "      <td>1</td>\n",
       "      <td>Three Amigos! (1986)</td>\n",
       "    </tr>\n",
       "    <tr>\n",
       "      <th>2</th>\n",
       "      <td>2565</td>\n",
       "      <td>2478</td>\n",
       "      <td>1</td>\n",
       "      <td>Three Amigos! (1986)</td>\n",
       "    </tr>\n",
       "    <tr>\n",
       "      <th>3</th>\n",
       "      <td>4819</td>\n",
       "      <td>2478</td>\n",
       "      <td>2</td>\n",
       "      <td>Three Amigos! (1986)</td>\n",
       "    </tr>\n",
       "    <tr>\n",
       "      <th>4</th>\n",
       "      <td>5763</td>\n",
       "      <td>2478</td>\n",
       "      <td>1</td>\n",
       "      <td>Three Amigos! (1986)</td>\n",
       "    </tr>\n",
       "  </tbody>\n",
       "</table>\n",
       "</div>"
      ],
      "text/plain": [
       "   userId  movieId  rating                 title\n",
       "0    3539     2478       5  Three Amigos! (1986)\n",
       "1    1358     2478       1  Three Amigos! (1986)\n",
       "2    2565     2478       1  Three Amigos! (1986)\n",
       "3    4819     2478       2  Three Amigos! (1986)\n",
       "4    5763     2478       1  Three Amigos! (1986)"
      ]
     },
     "execution_count": 8,
     "metadata": {},
     "output_type": "execute_result"
    }
   ],
   "source": [
    "df, df_test = read_movielens(paths[0],paths[2]), read_movielens(paths[1],paths[2])\n",
    "df.head()"
   ]
  },
  {
   "cell_type": "code",
   "execution_count": 35,
   "metadata": {},
   "outputs": [
    {
     "data": {
      "text/plain": [
       "userId    6040\n",
       "title     3700\n",
       "dtype: int64"
      ]
     },
     "execution_count": 35,
     "metadata": {},
     "output_type": "execute_result"
    }
   ],
   "source": [
    "df[['userId','title']].nunique()"
   ]
  },
  {
   "cell_type": "markdown",
   "metadata": {},
   "source": [
    "### Dataloaders"
   ]
  },
  {
   "cell_type": "code",
   "execution_count": 57,
   "metadata": {},
   "outputs": [],
   "source": [
    "movie_map = CategoryMap(df.title)\n",
    "user_map =  CategoryMap(df.userId)"
   ]
  },
  {
   "cell_type": "code",
   "execution_count": 93,
   "metadata": {},
   "outputs": [],
   "source": [
    "xs = tensor([ user_map.map_objs(df.userId), movie_map.map_objs(df.title)]).T\n",
    "ys = tensor(df.rating, dtype=torch.float32)"
   ]
  },
  {
   "cell_type": "markdown",
   "metadata": {},
   "source": [
    "## Baseline model\n",
    "\n",
    "For baseline we can use basic user-item matrix. First convert it to dense matrix. <br>\n",
    "Since number of items and users is small so we can manage it."
   ]
  },
  {
   "cell_type": "code",
   "execution_count": 94,
   "metadata": {},
   "outputs": [],
   "source": [
    "A = to_device(torch.sparse_coo_tensor(xs.T,ys,dtype=torch.float32).to_dense())"
   ]
  },
  {
   "cell_type": "markdown",
   "metadata": {},
   "source": [
    "For user-based model to predict user score for movie, we compute <br>\n",
    "$v = A_uA^T$ to get user similarities by taking dot products, and <br>\n",
    "$r = A^T_mv/\\text{sum}(v)$"
   ]
  },
  {
   "cell_type": "code",
   "execution_count": 95,
   "metadata": {},
   "outputs": [],
   "source": [
    "#|export\n",
    "class SavePkl:\n",
    "    def save(self,fname):\n",
    "        Path(fname).parent.mkdir(parents=True,exist_ok=True)\n",
    "        with open(fname,'wb') as f:\n",
    "            save_pickle(f, self)\n",
    "    def load(self,fname):\n",
    "        with open(fname,'rb') as f:\n",
    "            self.__dict__.update(load_pickle(f).__dict__)"
   ]
  },
  {
   "cell_type": "code",
   "execution_count": 74,
   "metadata": {},
   "outputs": [],
   "source": [
    "#|export\n",
    "\n",
    "class CollabUserBased(SavePkl):\n",
    "    '''Basic model for collaborative filtering'''\n",
    "    def __init__(self, device=None): \n",
    "        self.device = ifnone(device, default_device())\n",
    "    \n",
    "    def fit(self, xs, ys):\n",
    "        A = to_device(torch.sparse_coo_tensor(xs.T,ys,dtype=torch.float32).to_dense())\n",
    "        self.means = A.sum(dim=1)/A.count_nonzero(dim=1)\n",
    "        self.A = A - self.means[:,None] # normalization\n",
    "\n",
    "    def predict(self, xb, yb=None,loss=F.mse_loss):\n",
    "        means = self.means[xb[:,0]]\n",
    "        u, m = xb.T\n",
    "        ratings = torch.bmm((self.A[u] @ self.A.T)[:,None,:], self.A[:,m].T[...,None]).squeeze()/(self.A[u] @ self.A.T).sum(dim=1)\n",
    "        if yb is not None: return (ratings, loss(ratings+means,yb[:,0]))\n",
    "        return ratings+means\n",
    "\n",
    "    def recommend(self, movies: list, ratings: list, topk=5, filter_seen=True):\n",
    "        user_emb = self.user_embed(movies,ratings)\n",
    "        m = self.A[:,user_emb==0] if filter_seen else self.A\n",
    "        return ((self.A @ user_emb) @ m).topk(topk)\n",
    "\n",
    "    def user_embed(self, movies: list, ratings: list):\n",
    "        ratings = tensor(ratings, dtype=torch.float32, device=self.device)\n",
    "        emb = torch.zeros(self.A.shape[-1], device=self.device)\n",
    "        emb[movies] = ratings - ratings.mean()\n",
    "        return emb\n",
    "\n",
    "    def similar_movies(self,movie_id: int, topk=5):\n",
    "        return (self.A[:,movie_id] @ self.A).topk(topk+1).indices[1:]"
   ]
  },
  {
   "cell_type": "code",
   "execution_count": 75,
   "metadata": {},
   "outputs": [],
   "source": [
    "model = CollabUserBased()"
   ]
  },
  {
   "cell_type": "code",
   "execution_count": 76,
   "metadata": {},
   "outputs": [],
   "source": [
    "model.fit(dls)\n",
    "model.save('./models/model.pkl')"
   ]
  },
  {
   "cell_type": "code",
   "execution_count": 77,
   "metadata": {},
   "outputs": [
    {
     "data": {
      "text/plain": [
       "(#5) ['Raiders of the Lost Ark (1981)','Silence of the Lambs, The (1991)','2001: A Space Odyssey (1968)','Psycho (1960)','Basic Instinct (1992)']"
      ]
     },
     "execution_count": 77,
     "metadata": {},
     "output_type": "execute_result"
    }
   ],
   "source": [
    "dls.decode(model.similar_movies(5))"
   ]
  },
  {
   "cell_type": "code",
   "execution_count": 78,
   "metadata": {},
   "outputs": [
    {
     "data": {
      "text/plain": [
       "tensor([0., 0., 0.,  ..., 0., 0., 0.], device='cuda:0')"
      ]
     },
     "execution_count": 78,
     "metadata": {},
     "output_type": "execute_result"
    }
   ],
   "source": [
    "model.A[1]"
   ]
  },
  {
   "cell_type": "code",
   "execution_count": 79,
   "metadata": {},
   "outputs": [],
   "source": [
    "model.load('./models/model.pkl')"
   ]
  },
  {
   "cell_type": "code",
   "execution_count": 80,
   "metadata": {},
   "outputs": [
    {
     "data": {
      "text/plain": [
       "tensor(0.8640, device='cuda:0', dtype=torch.float64)"
      ]
     },
     "execution_count": 80,
     "metadata": {},
     "output_type": "execute_result"
    }
   ],
   "source": [
    "xb, yb = to_device(dls.one_batch())\n",
    "model.predict(xb,yb)[1]"
   ]
  },
  {
   "cell_type": "code",
   "execution_count": 81,
   "metadata": {},
   "outputs": [
    {
     "data": {
      "text/plain": [
       "(#5) ['Radio Days (1987)','Alvarez Kelly (1966)','Shanghai Noon (2000)','Shower (Xizhao) (1999)','Scarlet Letter, The (1926)']"
      ]
     },
     "execution_count": 81,
     "metadata": {},
     "output_type": "execute_result"
    }
   ],
   "source": [
    "movies = [1,2,4,5]\n",
    "ratings = [0,1,0,1]\n",
    "_, recs = model.recommend(movies,ratings)\n",
    "dls.classes['title'].map_ids(recs)"
   ]
  },
  {
   "cell_type": "code",
   "execution_count": 82,
   "metadata": {},
   "outputs": [],
   "source": [
    "#|export\n",
    "def train(model, dls, fname=None):\n",
    "    model.fit(dls)\n",
    "    model.save(fname)\n",
    "\n",
    "def pred(model, dls):\n",
    "    preds = [model.predict(*to_device(b)) for b in progress_bar(dls)]\n",
    "    return torch.cat(preds)\n",
    "\n",
    "def eval(model, dls):\n",
    "    preds = [model.predict(*to_device(b)) for b in progress_bar(dls)]\n",
    "    loss = torch.stack(list(L(preds).itemgot(1))).mean()\n",
    "    return loss"
   ]
  },
  {
   "cell_type": "markdown",
   "metadata": {},
   "source": [
    "## Test"
   ]
  },
  {
   "cell_type": "code",
   "execution_count": 83,
   "metadata": {},
   "outputs": [],
   "source": [
    "test_dls = dls.test_dl(df_test,bs=100000)"
   ]
  },
  {
   "cell_type": "code",
   "execution_count": 84,
   "metadata": {},
   "outputs": [
    {
     "data": {
      "text/html": [
       "\n",
       "<style>\n",
       "    /* Turns off some styling */\n",
       "    progress {\n",
       "        /* gets rid of default border in Firefox and Opera. */\n",
       "        border: none;\n",
       "        /* Needs to be in here for Safari polyfill so background images work as expected. */\n",
       "        background-size: auto;\n",
       "    }\n",
       "    progress:not([value]), progress:not([value])::-webkit-progress-bar {\n",
       "        background: repeating-linear-gradient(45deg, #7e7e7e, #7e7e7e 10px, #5c5c5c 10px, #5c5c5c 20px);\n",
       "    }\n",
       "    .progress-bar-interrupted, .progress-bar-interrupted::-webkit-progress-bar {\n",
       "        background: #F44336;\n",
       "    }\n",
       "</style>\n"
      ],
      "text/plain": [
       "<IPython.core.display.HTML object>"
      ]
     },
     "metadata": {},
     "output_type": "display_data"
    },
    {
     "data": {
      "text/html": [
       "\n",
       "    <div>\n",
       "      <progress value='1' class='' max='1' style='width:300px; height:20px; vertical-align: middle;'></progress>\n",
       "      100.00% [1/1 00:00&lt;00:00]\n",
       "    </div>\n",
       "    "
      ],
      "text/plain": [
       "<IPython.core.display.HTML object>"
      ]
     },
     "metadata": {},
     "output_type": "display_data"
    },
    {
     "data": {
      "text/plain": [
       "tensor(1.6255, device='cuda:0', dtype=torch.float64)"
      ]
     },
     "execution_count": 84,
     "metadata": {},
     "output_type": "execute_result"
    }
   ],
   "source": [
    "loss = eval(model,test_dls)\n",
    "loss"
   ]
  },
  {
   "cell_type": "markdown",
   "metadata": {},
   "source": [
    "## Something smarter"
   ]
  },
  {
   "cell_type": "markdown",
   "metadata": {},
   "source": []
  }
 ],
 "metadata": {
  "kernelspec": {
   "display_name": "python3",
   "language": "python",
   "name": "python3"
  },
  "language_info": {
   "codemirror_mode": {
    "name": "ipython",
    "version": 3
   },
   "file_extension": ".py",
   "mimetype": "text/x-python",
   "name": "python",
   "nbconvert_exporter": "python",
   "pygments_lexer": "ipython3",
   "version": "3.11.8"
  }
 },
 "nbformat": 4,
 "nbformat_minor": 4
}
