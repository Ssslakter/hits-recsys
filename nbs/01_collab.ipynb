{
 "cells": [
  {
   "cell_type": "markdown",
   "metadata": {},
   "source": [
    "# Collaborative filtering\n",
    "\n",
    "> Recsys algorithom from explicit reviews"
   ]
  },
  {
   "cell_type": "code",
   "execution_count": null,
   "metadata": {},
   "outputs": [],
   "source": [
    "#| default_exp collab"
   ]
  },
  {
   "cell_type": "code",
   "execution_count": null,
   "metadata": {},
   "outputs": [],
   "source": [
    "#| hide\n",
    "from nbdev.showdoc import *\n",
    "from fastdownload import FastDownload\n",
    "from fastai.tabular.all import *\n",
    "from fastai.collab import *"
   ]
  },
  {
   "cell_type": "code",
   "execution_count": null,
   "metadata": {},
   "outputs": [],
   "source": [
    "#|export\n",
    "from fastprogress.fastprogress import progress_bar\n",
    "import pandas as pd\n",
    "import numpy as np\n",
    "import torch, torch.nn.functional as F\n",
    "from torch import tensor\n",
    "from fastai.collab import to_device, to_cpu, default_device, CategoryMap, DataLoader\n",
    "from fastcore.all import *"
   ]
  },
  {
   "cell_type": "code",
   "execution_count": null,
   "metadata": {},
   "outputs": [],
   "source": [
    "#|export\n",
    "@patch\n",
    "def pprint(l: L): print('\\n'.join(l.map(str)))\n",
    "\n",
    "class SavePT:\n",
    "    '''Class to save and load PyTorch models or objects'''\n",
    "    def save(self, fname: str|Path):\n",
    "        '''Save the model to a file.'''\n",
    "        Path(fname).parent.mkdir(parents=True,exist_ok=True)\n",
    "        torch.save(self, fname)\n",
    "    def load(self, fname: str|Path):\n",
    "        '''Load the model from a file.'''\n",
    "        obj = torch.load(fname, map_location=default_device())\n",
    "        assert self.__class__ == obj.__class__, f\"Class missmatch, wanted {self.__class__}, but file has {obj.__class__}\"\n",
    "        self.__dict__.update(obj.__dict__)"
   ]
  },
  {
   "cell_type": "markdown",
   "metadata": {},
   "source": [
    "Load data from url"
   ]
  },
  {
   "cell_type": "code",
   "execution_count": null,
   "metadata": {},
   "outputs": [],
   "source": [
    "url = 'https://raw.githubusercontent.com/MenshikovDmitry/TSU_AI_Course/main/module_1.%20Recommender%2BDevOps/dataset/'\n",
    "files = ('ratings_train.dat ratings_test.dat movies.dat users.dat').split()\n",
    "d = FastDownload()"
   ]
  },
  {
   "cell_type": "code",
   "execution_count": null,
   "metadata": {},
   "outputs": [
    {
     "data": {
      "text/plain": [
       "(#4) [Path('/home/slakter/.fastdownload/archive/ratings_train.dat'),Path('/home/slakter/.fastdownload/archive/ratings_test.dat'),Path('/home/slakter/.fastdownload/archive/movies.dat'),Path('/home/slakter/.fastdownload/archive/users.dat')]"
      ]
     },
     "execution_count": null,
     "metadata": {},
     "output_type": "execute_result"
    }
   ],
   "source": [
    "paths = L(d.download(url+f) for f in files); paths"
   ]
  },
  {
   "cell_type": "code",
   "execution_count": null,
   "metadata": {},
   "outputs": [],
   "source": [
    "#|export\n",
    "def read_movielens(ratings_path: str, movies_path: str) -> pd.DataFrame:\n",
    "    \"\"\"\n",
    "    Reads the MovieLens dataset from the given ratings and movies files and merges them based on the movieId.\n",
    "    \"\"\"\n",
    "    kw1 = dict(sep='::', names=['userId', 'movieId', 'rating'], usecols=(0, 1, 2), engine='python')\n",
    "    kw2 = kw1 | dict(names=['movieId', 'title'], usecols=(0, 1), encoding='ISO-8859-1')\n",
    "    r, m = pd.read_csv(ratings_path, **kw1), pd.read_csv(movies_path, **kw2)\n",
    "    return r.merge(m)"
   ]
  },
  {
   "cell_type": "code",
   "execution_count": null,
   "metadata": {},
   "outputs": [
    {
     "data": {
      "text/html": [
       "<div>\n",
       "<style scoped>\n",
       "    .dataframe tbody tr th:only-of-type {\n",
       "        vertical-align: middle;\n",
       "    }\n",
       "\n",
       "    .dataframe tbody tr th {\n",
       "        vertical-align: top;\n",
       "    }\n",
       "\n",
       "    .dataframe thead th {\n",
       "        text-align: right;\n",
       "    }\n",
       "</style>\n",
       "<table border=\"1\" class=\"dataframe\">\n",
       "  <thead>\n",
       "    <tr style=\"text-align: right;\">\n",
       "      <th></th>\n",
       "      <th>userId</th>\n",
       "      <th>movieId</th>\n",
       "      <th>rating</th>\n",
       "      <th>title</th>\n",
       "    </tr>\n",
       "  </thead>\n",
       "  <tbody>\n",
       "    <tr>\n",
       "      <th>0</th>\n",
       "      <td>3539</td>\n",
       "      <td>2478</td>\n",
       "      <td>5</td>\n",
       "      <td>Three Amigos! (1986)</td>\n",
       "    </tr>\n",
       "    <tr>\n",
       "      <th>1</th>\n",
       "      <td>1358</td>\n",
       "      <td>2478</td>\n",
       "      <td>1</td>\n",
       "      <td>Three Amigos! (1986)</td>\n",
       "    </tr>\n",
       "    <tr>\n",
       "      <th>2</th>\n",
       "      <td>2565</td>\n",
       "      <td>2478</td>\n",
       "      <td>1</td>\n",
       "      <td>Three Amigos! (1986)</td>\n",
       "    </tr>\n",
       "    <tr>\n",
       "      <th>3</th>\n",
       "      <td>4819</td>\n",
       "      <td>2478</td>\n",
       "      <td>2</td>\n",
       "      <td>Three Amigos! (1986)</td>\n",
       "    </tr>\n",
       "    <tr>\n",
       "      <th>4</th>\n",
       "      <td>5763</td>\n",
       "      <td>2478</td>\n",
       "      <td>1</td>\n",
       "      <td>Three Amigos! (1986)</td>\n",
       "    </tr>\n",
       "  </tbody>\n",
       "</table>\n",
       "</div>"
      ],
      "text/plain": [
       "   userId  movieId  rating                 title\n",
       "0    3539     2478       5  Three Amigos! (1986)\n",
       "1    1358     2478       1  Three Amigos! (1986)\n",
       "2    2565     2478       1  Three Amigos! (1986)\n",
       "3    4819     2478       2  Three Amigos! (1986)\n",
       "4    5763     2478       1  Three Amigos! (1986)"
      ]
     },
     "execution_count": null,
     "metadata": {},
     "output_type": "execute_result"
    }
   ],
   "source": [
    "df, df_test = read_movielens(paths[0],paths[2]), read_movielens(paths[1],paths[2])\n",
    "df.head()"
   ]
  },
  {
   "cell_type": "code",
   "execution_count": null,
   "metadata": {},
   "outputs": [
    {
     "data": {
      "text/plain": [
       "userId    6040\n",
       "title     3700\n",
       "dtype: int64"
      ]
     },
     "execution_count": null,
     "metadata": {},
     "output_type": "execute_result"
    }
   ],
   "source": [
    "df[['userId','title']].nunique()"
   ]
  },
  {
   "cell_type": "markdown",
   "metadata": {},
   "source": [
    "### Dataloaders"
   ]
  },
  {
   "cell_type": "code",
   "execution_count": null,
   "metadata": {},
   "outputs": [],
   "source": [
    "#|export\n",
    "class TfmdDataset(SavePT):\n",
    "    '''Dataset with mapped usres and movies'''\n",
    "    def __init__(self, df, movie_map = None, user_map=None):\n",
    "        self.movie_map = ifnone(movie_map,CategoryMap(df.title))\n",
    "        self.user_map = ifnone(user_map,CategoryMap(df.userId))\n",
    "        self.xs = tensor([self.user_map.map_objs(df.userId), self.movie_map.map_objs(df.title)]).T\n",
    "        if hasattr(df, 'rating'): self.ys = tensor(df.rating, dtype=torch.float32)\n",
    "    def encode(self, movies): return self.movie_map.map_objs(movies)\n",
    "    def decode(self, movie_ids): return self.movie_map.map_ids(movie_ids)\n",
    "    def __getitem__(self,i): \n",
    "        return (self.xs[i],self.ys[i]) if hasattr(self,'ys') else (self.xs[i],)\n",
    "    def __len__(self): return len(self.xs)\n",
    "    @delegates(DataLoader.__init__)\n",
    "    def dls(self, bs=64, **kwargs):\n",
    "        '''Create a DataLoader with the given batch size'''\n",
    "        return DataLoader(self, bs=bs, **kwargs)\n",
    "    \n",
    "    def test_ds(self, test_df): \n",
    "        '''Create a test dataset with the given DataFrame'''\n",
    "        return self.__class__(test_df, self.movie_map,self.user_map)"
   ]
  },
  {
   "cell_type": "code",
   "execution_count": null,
   "metadata": {},
   "outputs": [],
   "source": [
    "ds = TfmdDataset(df)\n",
    "ds_test = ds.test_ds(df_test)"
   ]
  },
  {
   "cell_type": "markdown",
   "metadata": {},
   "source": [
    "## Baseline model\n",
    "\n",
    "For baseline we can use basic user-item matrix. First convert it to dense matrix. <br>\n",
    "Since number of items and users is small so we can manage it."
   ]
  },
  {
   "cell_type": "code",
   "execution_count": null,
   "metadata": {},
   "outputs": [],
   "source": [
    "A = to_device(torch.sparse_coo_tensor(ds.xs.T,ds.ys,dtype=torch.float32).to_dense())"
   ]
  },
  {
   "cell_type": "markdown",
   "metadata": {},
   "source": [
    "For user-based model to predict user score for movie, we compute <br>\n",
    "$v = A_uA^T$ to get user similarities by taking dot products, and <br>\n",
    "$r = A^T_mv/\\text{sum}(v)$"
   ]
  },
  {
   "cell_type": "code",
   "execution_count": null,
   "metadata": {},
   "outputs": [],
   "source": [
    "#|export\n",
    "class CollabUserBased(SavePT):\n",
    "    '''Basic model for collaborative filtering'''\n",
    "    def __init__(self, device=None): \n",
    "        self.device = ifnone(device, default_device())\n",
    "    \n",
    "    def norm(self, x, m, std=None): \n",
    "        return (x-m)/std if std is not None else (x-m)/m\n",
    "    def denorm(self, x, m, std=None): return x*std+m if std is not None else x*m+m\n",
    "    \n",
    "    def fit(self, ds):\n",
    "        '''Fit the model to the given dataset'''\n",
    "        A = to_device(torch.sparse_coo_tensor(ds.xs.T, ds.ys, dtype=torch.float32).to_dense())\n",
    "        \n",
    "        # little trick to use methods list nanmean and nanstd\n",
    "        A[A==0] = torch.nan\n",
    "        self.means = A.nanmean(dim=1)\n",
    "        self.std = tensor(np.nanstd(to_cpu(A), 1), device=self.device)\n",
    "        A = self.norm(A, self.means[:,None], self.std[:,None])\n",
    "        # get zeros back\n",
    "        A[A.isnan()] = 0\n",
    "        self.A = A\n",
    "\n",
    "    def predict(self, xb, yb=None):\n",
    "        '''Predict the ratings for batch and calculate the loss if yb is given'''\n",
    "        u, m = xb.T\n",
    "        u, m = self.A[u], self.A[:,m].T\n",
    "        # cosine similarity\n",
    "        u /= u.norm(dim=1)[:,None]\n",
    "        normed = (self.A/self.A.norm(dim=1)[:,None]).T\n",
    "        ratings = torch.bmm((u @ normed)[:,None,:], m[...,None]).squeeze()/torch.count_nonzero(m, dim=1)**0.5\n",
    "        ratings = self.denorm(ratings,  self.means[xb.T[0]], self.std[xb.T[0]])\n",
    "        if yb is not None: return (ratings, F.mse_loss(ratings,yb))\n",
    "        return ratings\n",
    "\n",
    "    def recommend(self, movies: tensor, ratings: tensor, topk: int=5, filter_seen=True):\n",
    "        '''Recommend topk movies based on the given ratings. \\n\n",
    "        If filter_seen is True, the movies that are already rated will be filtered out'''\n",
    "        u = self.user_embed(movies, ratings)\n",
    "        # res = self.denorm(((self.A @ u) @ self.A)/(self.A!=0).sum(0), ratings.mean()) works for ratings but not for recommendations\n",
    "        res = self.denorm(((self.A @ u) @ self.A), ratings.mean())\n",
    "        if not filter_seen: return res.topk(topk)\n",
    "        res = res.topk(topk + len(movies))\n",
    "        mask = ~torch.isin(res.indices,movies)\n",
    "        return (res[0][mask][:topk], res[1][mask][:topk])\n",
    "\n",
    "    def user_embed(self, movies: tensor, ratings: tensor):\n",
    "        emb = torch.zeros(self.A.shape[-1], device=self.device)\n",
    "        emb[movies] = self.norm(ratings, ratings.mean())\n",
    "        return emb\n",
    "\n",
    "    def similar_movies(self, movie_id: int, topk=5):\n",
    "        '''Return topk similar movies to the given movie_id'''\n",
    "        return (self.A[:,movie_id].squeeze(-1) @ self.A).topk(topk+1).indices[1:]"
   ]
  },
  {
   "cell_type": "code",
   "execution_count": null,
   "metadata": {},
   "outputs": [],
   "source": [
    "model = CollabUserBased()\n",
    "model.fit(ds)"
   ]
  },
  {
   "cell_type": "code",
   "execution_count": null,
   "metadata": {},
   "outputs": [],
   "source": [
    "model.save('./models/model.pt')\n",
    "ds.save('./models/ds.pt')"
   ]
  },
  {
   "cell_type": "code",
   "execution_count": null,
   "metadata": {},
   "outputs": [],
   "source": [
    "dls = ds.dls()\n",
    "xb, yb = to_device(dls.one_batch())"
   ]
  },
  {
   "cell_type": "code",
   "execution_count": null,
   "metadata": {},
   "outputs": [
    {
     "data": {
      "text/plain": [
       "tensor(1.3795, device='cuda:0')"
      ]
     },
     "execution_count": null,
     "metadata": {},
     "output_type": "execute_result"
    }
   ],
   "source": [
    "model.predict(xb,yb)[1]"
   ]
  },
  {
   "cell_type": "code",
   "execution_count": null,
   "metadata": {},
   "outputs": [],
   "source": [
    "movies = tensor([ds.encode([s])[0] for s in ds.movie_map if 'star wars' in s.lower()] + [1, 2, 3], device=model.device)[2:]\n",
    "ratings = tensor([5] * (len(movies) - 3) + [1] * 3, device=model.device, dtype=torch.float)"
   ]
  },
  {
   "cell_type": "code",
   "execution_count": null,
   "metadata": {},
   "outputs": [
    {
     "name": "stdout",
     "output_type": "stream",
     "text": [
      "Star Wars: Episode V - The Empire Strikes Back (1980)\n",
      "Star Wars: Episode VI - Return of the Jedi (1983)\n",
      "'Night Mother (1986)\n",
      "'Til There Was You (1997)\n",
      "'burbs, The (1989)\n"
     ]
    }
   ],
   "source": [
    "ds.decode(movies).pprint()"
   ]
  },
  {
   "cell_type": "code",
   "execution_count": null,
   "metadata": {},
   "outputs": [
    {
     "name": "stdout",
     "output_type": "stream",
     "text": [
      "Star Wars: Episode IV - A New Hope (1977)\n",
      "Raiders of the Lost Ark (1981)\n",
      "Matrix, The (1999)\n",
      "Saving Private Ryan (1998)\n",
      "Shawshank Redemption, The (1994)\n",
      "Princess Bride, The (1987)\n",
      "Sixth Sense, The (1999)\n",
      "Braveheart (1995)\n",
      "Indiana Jones and the Last Crusade (1989)\n",
      "Godfather, The (1972)\n"
     ]
    }
   ],
   "source": [
    "ds.decode(model.recommend(movies,ratings,10)[1]).pprint()"
   ]
  },
  {
   "cell_type": "code",
   "execution_count": null,
   "metadata": {},
   "outputs": [
    {
     "data": {
      "text/plain": [
       "(#1) ['Star Wars: Episode V - The Empire Strikes Back (1980)']"
      ]
     },
     "execution_count": null,
     "metadata": {},
     "output_type": "execute_result"
    }
   ],
   "source": [
    "m_id = 3149\n",
    "ds.decode([m_id])"
   ]
  },
  {
   "cell_type": "code",
   "execution_count": null,
   "metadata": {},
   "outputs": [
    {
     "name": "stdout",
     "output_type": "stream",
     "text": [
      "Star Wars: Episode IV - A New Hope (1977)\n",
      "Star Wars: Episode VI - Return of the Jedi (1983)\n",
      "Raiders of the Lost Ark (1981)\n",
      "Matrix, The (1999)\n",
      "Godfather, The (1972)\n"
     ]
    }
   ],
   "source": [
    "ds.decode(model.similar_movies(m_id)).pprint()"
   ]
  },
  {
   "cell_type": "markdown",
   "metadata": {},
   "source": [
    "## Main service"
   ]
  },
  {
   "cell_type": "code",
   "execution_count": null,
   "metadata": {},
   "outputs": [],
   "source": [
    "#|export\n",
    "class ModelService:\n",
    "    '''Service class for model training, evaluation and predictions. It also provides methods for saving and loading the model.'''\n",
    "    def __init__(self, model: CollabUserBased=None, ds=None):\n",
    "        self.model = model\n",
    "        self.ds = ds\n",
    "    def _movie_enc(self, movies): \n",
    "        return tensor(self.ds.encode(movies) if isinstance(movies[0],str) else movies, device=self.model.device)\n",
    "    \n",
    "    def save(self, dir):\n",
    "        dir = Path(dir)\n",
    "        self.ds.save(dir/'ds.pt')\n",
    "        self.model.save(dir/'model.pt')\n",
    "    \n",
    "    @classmethod\n",
    "    def load(cls, dir, model):\n",
    "        dir = Path(dir)\n",
    "        model.load(dir/'model.pt')\n",
    "        ds = torch.load(dir/'ds.pt')\n",
    "        return cls(model, ds)\n",
    "        \n",
    "    def train(self, ds=None, model = None):\n",
    "        '''Train model from scratch on dataset'''\n",
    "        self.model = ifnone(model, self.model)\n",
    "        ds = ifnone(ds,self.ds)\n",
    "        self.model.fit(ds)\n",
    "    \n",
    "    def pred(self, ds=None, bs=8192):\n",
    "        '''Get rating predictions for dataset'''\n",
    "        dls = ifnone(ds,self.ds).dls(bs)\n",
    "        preds = torch.cat([self.model.predict(*to_device(b, self.model.device))[0] for b in progress_bar(dls)])\n",
    "        return preds.tolist()\n",
    "\n",
    "    def eval(self, ds=None, bs=8192):\n",
    "        '''Evaluate RMSE for dataset'''\n",
    "        dls = ifnone(ds,self.ds).dls(bs)\n",
    "        loss = torch.stack([self.model.predict(*to_device(b, self.model.device))[1]*len(b[0]) for b in progress_bar(dls)]).mean()\n",
    "        return torch.sqrt(loss/len(ds)).item()\n",
    "\n",
    "    def recommend(self, movies: list, ratings: list, topk=5, filter_seen=True):\n",
    "        '''Recommend top k movies by user wih list of movies and ratings'''\n",
    "        movies = self._movie_enc(movies)\n",
    "        ratings = tensor(ratings, device=self.model.device, dtype=torch.float)\n",
    "        return self.ds.decode(self.model.recommend(movies, ratings, topk, filter_seen)[1])\n",
    "\n",
    "    def similar_movies(self, movie:str, topk=5):\n",
    "        '''Find top k similar movies'''\n",
    "        movie = self._movie_enc([movie])\n",
    "        ms = self.model.similar_movies(movie, topk)\n",
    "        return self.ds.decode(ms)"
   ]
  },
  {
   "cell_type": "markdown",
   "metadata": {},
   "source": [
    "## Measure metrics"
   ]
  },
  {
   "cell_type": "code",
   "execution_count": null,
   "metadata": {},
   "outputs": [],
   "source": [
    "serv = ModelService.load('./models', CollabUserBased())"
   ]
  },
  {
   "cell_type": "code",
   "execution_count": null,
   "metadata": {},
   "outputs": [
    {
     "data": {
      "text/html": [
       "\n",
       "<style>\n",
       "    /* Turns off some styling */\n",
       "    progress {\n",
       "        /* gets rid of default border in Firefox and Opera. */\n",
       "        border: none;\n",
       "        /* Needs to be in here for Safari polyfill so background images work as expected. */\n",
       "        background-size: auto;\n",
       "    }\n",
       "    progress:not([value]), progress:not([value])::-webkit-progress-bar {\n",
       "        background: repeating-linear-gradient(45deg, #7e7e7e, #7e7e7e 10px, #5c5c5c 10px, #5c5c5c 20px);\n",
       "    }\n",
       "    .progress-bar-interrupted, .progress-bar-interrupted::-webkit-progress-bar {\n",
       "        background: #F44336;\n",
       "    }\n",
       "</style>\n"
      ],
      "text/plain": [
       "<IPython.core.display.HTML object>"
      ]
     },
     "metadata": {},
     "output_type": "display_data"
    },
    {
     "data": {
      "text/html": [
       "\n",
       "    <div>\n",
       "      <progress value='4' class='' max='4' style='width:300px; height:20px; vertical-align: middle;'></progress>\n",
       "      100.00% [4/4 00:01&lt;00:00]\n",
       "    </div>\n",
       "    "
      ],
      "text/plain": [
       "<IPython.core.display.HTML object>"
      ]
     },
     "metadata": {},
     "output_type": "display_data"
    },
    {
     "data": {
      "text/plain": [
       "1.025577187538147"
      ]
     },
     "execution_count": null,
     "metadata": {},
     "output_type": "execute_result"
    }
   ],
   "source": [
    "#|eval: false\n",
    "serv.eval(ds_test, bs=4096*4)"
   ]
  },
  {
   "cell_type": "code",
   "execution_count": null,
   "metadata": {},
   "outputs": [
    {
     "data": {
      "text/html": [
       "\n",
       "<style>\n",
       "    /* Turns off some styling */\n",
       "    progress {\n",
       "        /* gets rid of default border in Firefox and Opera. */\n",
       "        border: none;\n",
       "        /* Needs to be in here for Safari polyfill so background images work as expected. */\n",
       "        background-size: auto;\n",
       "    }\n",
       "    progress:not([value]), progress:not([value])::-webkit-progress-bar {\n",
       "        background: repeating-linear-gradient(45deg, #7e7e7e, #7e7e7e 10px, #5c5c5c 10px, #5c5c5c 20px);\n",
       "    }\n",
       "    .progress-bar-interrupted, .progress-bar-interrupted::-webkit-progress-bar {\n",
       "        background: #F44336;\n",
       "    }\n",
       "</style>\n"
      ],
      "text/plain": [
       "<IPython.core.display.HTML object>"
      ]
     },
     "metadata": {},
     "output_type": "display_data"
    },
    {
     "data": {
      "text/html": [
       "\n",
       "    <div>\n",
       "      <progress value='7' class='' max='7' style='width:300px; height:20px; vertical-align: middle;'></progress>\n",
       "      100.00% [7/7 00:00&lt;00:00]\n",
       "    </div>\n",
       "    "
      ],
      "text/plain": [
       "<IPython.core.display.HTML object>"
      ]
     },
     "metadata": {},
     "output_type": "display_data"
    },
    {
     "data": {
      "text/plain": [
       "[3.2293689250946045,\n",
       " 3.1532304286956787,\n",
       " 3.6166019439697266,\n",
       " 3.4224424362182617,\n",
       " 3.27913236618042]"
      ]
     },
     "execution_count": null,
     "metadata": {},
     "output_type": "execute_result"
    }
   ],
   "source": [
    "#|eval: false\n",
    "serv.pred(ds_test)[0:5]"
   ]
  }
 ],
 "metadata": {
  "kernelspec": {
   "display_name": "python3",
   "language": "python",
   "name": "python3"
  }
 },
 "nbformat": 4,
 "nbformat_minor": 4
}
