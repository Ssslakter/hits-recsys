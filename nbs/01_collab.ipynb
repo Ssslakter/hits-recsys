{
 "cells": [
  {
   "cell_type": "markdown",
   "metadata": {},
   "source": [
    "# Colaborative filteration\n",
    "\n",
    "> Recsys algorithom from explicit reviews"
   ]
  },
  {
   "cell_type": "code",
   "execution_count": null,
   "metadata": {},
   "outputs": [],
   "source": [
    "#| default_exp collab"
   ]
  },
  {
   "cell_type": "code",
   "execution_count": null,
   "metadata": {},
   "outputs": [],
   "source": [
    "#| hide\n",
    "from nbdev.showdoc import *\n",
    "from fastcore.all import *\n",
    "from fastprogress.fastprogress import progress_bar\n",
    "from fastdownload import FastDownload\n",
    "from fastai.tabular.all import *\n",
    "from fastai.tabular.all import *\n",
    "from fastai.collab import *"
   ]
  },
  {
   "cell_type": "code",
   "execution_count": null,
   "metadata": {},
   "outputs": [],
   "source": [
    "#|export\n",
    "from fastprogress.fastprogress import progress_bar\n",
    "import pandas as pd\n",
    "import torch, torch.nn.functional as F\n",
    "from torch import tensor\n",
    "from fastai.learner import to_device, default_device\n",
    "from fastcore.all import *"
   ]
  },
  {
   "cell_type": "markdown",
   "metadata": {},
   "source": [
    "Load data from url"
   ]
  },
  {
   "cell_type": "code",
   "execution_count": null,
   "metadata": {},
   "outputs": [],
   "source": [
    "url = 'https://raw.githubusercontent.com/MenshikovDmitry/TSU_AI_Course/main/module_1.%20Recommender%2BDevOps/dataset/'\n",
    "files = ('ratings_train.dat ratings_test.dat movies.dat users.dat').split()\n",
    "d = FastDownload()"
   ]
  },
  {
   "cell_type": "code",
   "execution_count": null,
   "metadata": {},
   "outputs": [
    {
     "data": {
      "text/plain": [
       "(#4) [Path('/home/slakter/.fastdownload/archive/ratings_train.dat'),Path('/home/slakter/.fastdownload/archive/ratings_test.dat'),Path('/home/slakter/.fastdownload/archive/movies.dat'),Path('/home/slakter/.fastdownload/archive/users.dat')]"
      ]
     },
     "execution_count": null,
     "metadata": {},
     "output_type": "execute_result"
    }
   ],
   "source": [
    "paths = L(d.download(url+f) for f in files); paths"
   ]
  },
  {
   "cell_type": "code",
   "execution_count": null,
   "metadata": {},
   "outputs": [],
   "source": [
    "#|export\n",
    "def read_movielens(ratings_path, movies_path):\n",
    "    kw1 = dict(sep='::', names = ['userId','movieId','rating'], usecols=(0,1,2), engine='python')\n",
    "    kw2 = kw1 | dict(names = ['movieId','title'], usecols=(0,1), encoding='ISO-8859-1')\n",
    "    r, m = pd.read_csv(ratings_path, **kw1), pd.read_csv(movies_path, **kw2)\n",
    "    return r.merge(m)"
   ]
  },
  {
   "cell_type": "code",
   "execution_count": null,
   "metadata": {},
   "outputs": [
    {
     "data": {
      "text/html": [
       "<div>\n",
       "<style scoped>\n",
       "    .dataframe tbody tr th:only-of-type {\n",
       "        vertical-align: middle;\n",
       "    }\n",
       "\n",
       "    .dataframe tbody tr th {\n",
       "        vertical-align: top;\n",
       "    }\n",
       "\n",
       "    .dataframe thead th {\n",
       "        text-align: right;\n",
       "    }\n",
       "</style>\n",
       "<table border=\"1\" class=\"dataframe\">\n",
       "  <thead>\n",
       "    <tr style=\"text-align: right;\">\n",
       "      <th></th>\n",
       "      <th>userId</th>\n",
       "      <th>movieId</th>\n",
       "      <th>rating</th>\n",
       "      <th>title</th>\n",
       "    </tr>\n",
       "  </thead>\n",
       "  <tbody>\n",
       "    <tr>\n",
       "      <th>0</th>\n",
       "      <td>3539</td>\n",
       "      <td>2478</td>\n",
       "      <td>5</td>\n",
       "      <td>Three Amigos! (1986)</td>\n",
       "    </tr>\n",
       "    <tr>\n",
       "      <th>1</th>\n",
       "      <td>5795</td>\n",
       "      <td>377</td>\n",
       "      <td>2</td>\n",
       "      <td>Speed (1994)</td>\n",
       "    </tr>\n",
       "    <tr>\n",
       "      <th>2</th>\n",
       "      <td>3513</td>\n",
       "      <td>3526</td>\n",
       "      <td>4</td>\n",
       "      <td>Parenthood (1989)</td>\n",
       "    </tr>\n",
       "    <tr>\n",
       "      <th>3</th>\n",
       "      <td>4176</td>\n",
       "      <td>924</td>\n",
       "      <td>5</td>\n",
       "      <td>2001: A Space Odyssey (1968)</td>\n",
       "    </tr>\n",
       "    <tr>\n",
       "      <th>4</th>\n",
       "      <td>4657</td>\n",
       "      <td>1960</td>\n",
       "      <td>4</td>\n",
       "      <td>Last Emperor, The (1987)</td>\n",
       "    </tr>\n",
       "  </tbody>\n",
       "</table>\n",
       "</div>"
      ],
      "text/plain": [
       "   userId  movieId  rating                         title\n",
       "0    3539     2478       5          Three Amigos! (1986)\n",
       "1    5795      377       2                  Speed (1994)\n",
       "2    3513     3526       4             Parenthood (1989)\n",
       "3    4176      924       5  2001: A Space Odyssey (1968)\n",
       "4    4657     1960       4      Last Emperor, The (1987)"
      ]
     },
     "execution_count": null,
     "metadata": {},
     "output_type": "execute_result"
    }
   ],
   "source": [
    "df, df_test = read_movielens(paths[0],paths[2]), read_movielens(paths[1],paths[2])\n",
    "df.head()"
   ]
  },
  {
   "cell_type": "markdown",
   "metadata": {},
   "source": [
    "### Ratings normalization"
   ]
  },
  {
   "cell_type": "code",
   "execution_count": null,
   "metadata": {},
   "outputs": [],
   "source": [
    "dls = CollabDataLoaders.from_df(df, item_name='title', bs=64,valid_pct=0.0)"
   ]
  },
  {
   "cell_type": "code",
   "execution_count": null,
   "metadata": {},
   "outputs": [
    {
     "data": {
      "text/plain": [
       "userId    6040\n",
       "title     3700\n",
       "dtype: int64"
      ]
     },
     "execution_count": null,
     "metadata": {},
     "output_type": "execute_result"
    }
   ],
   "source": [
    "df[['userId','title']].nunique()"
   ]
  },
  {
   "cell_type": "markdown",
   "metadata": {},
   "source": [
    "## Baseline model\n",
    "\n",
    "For baseline we can use basic user-item matrix. First convert it to dense matrix. <br>\n",
    "Since number of items and users is small so we can manage it."
   ]
  },
  {
   "cell_type": "code",
   "execution_count": null,
   "metadata": {},
   "outputs": [],
   "source": [
    "A = to_device(torch.sparse_coo_tensor(tensor(dls.xs.values).T,tensor(dls.ys.values).squeeze(),dtype=torch.float32).to_dense())"
   ]
  },
  {
   "cell_type": "markdown",
   "metadata": {},
   "source": [
    "For user-based model to predict user score for movie, we compute <br>\n",
    "$ v = A_uA^T$ to get user similarities by taking dot products, and <br>\n",
    "$r = A^T_mv/\\text{sum}(v)$"
   ]
  },
  {
   "cell_type": "code",
   "execution_count": null,
   "metadata": {},
   "outputs": [],
   "source": [
    "#|export\n",
    "class SavePkl:\n",
    "    def save(self,fname='./out.pkl'):\n",
    "        Path(fname).parent.mkdir(parents=True,exist_ok=True)\n",
    "        with open(fname,'wb') as f:\n",
    "            save_pickle(f, self)\n",
    "    def load(self,fname):\n",
    "        with open(fname,'rb') as f:\n",
    "            return load_pickle(f)"
   ]
  },
  {
   "cell_type": "code",
   "execution_count": null,
   "metadata": {},
   "outputs": [],
   "source": [
    "#|export\n",
    "def normalize(df, users_means=None):\n",
    "    if users_means is None: users_means = df.groupby('userId')['rating'].mean()\n",
    "    df['rating'] -= df['userId'].map(users_means)\n",
    "    return df, users_means\n",
    "\n",
    "\n",
    "class CollabUserBased(SavePkl):\n",
    "    def __init__(self, device=None): \n",
    "        self.device = ifnone(device, default_device())\n",
    "    \n",
    "    def fit(self, dls):\n",
    "        ys, self.means = normalize(dls.xs.join(dls.ys))\n",
    "        self.means = pd.concat([pd.Series([0]),self.means]) # fix indexing for 0 user\n",
    "        xs, ys = tensor(dls.xs.values), tensor(ys['rating'].values)\n",
    "        self.A =to_device(\n",
    "            torch.sparse_coo_tensor(xs.T, ys.squeeze(),dtype=torch.float32).to_dense(),\n",
    "            self.device)\n",
    "    \n",
    "    def predict(self, xb, yb=None,loss=F.mse_loss):\n",
    "        means = self.means.values[xb[:,0]]\n",
    "        u, m = xb.T\n",
    "        ratings = torch.bmm((self.A[u] @ self.A.T)[:,None,:], self.A[:,m].T[...,None]).squeeze()/(self.A[u] @ self.A.T).sum(dim=1)\n",
    "        if yb is not None: return (ratings, loss(ratings+means,yb[:,0]))\n",
    "        return ratings+means\n",
    "\n",
    "    def recommend(self, user:int, topk=3, filter_seen=True):\n",
    "        m = self.A[:,A[user]==0] if filter_seen else self.A\n",
    "        return ((self.A @ self.A[user]) @ m).topk(topk)"
   ]
  },
  {
   "cell_type": "code",
   "execution_count": null,
   "metadata": {},
   "outputs": [],
   "source": [
    "model = CollabUserBased()"
   ]
  },
  {
   "cell_type": "code",
   "execution_count": null,
   "metadata": {},
   "outputs": [],
   "source": [
    "model.fit(dls)\n",
    "model.save('./models/model.pkl')"
   ]
  },
  {
   "cell_type": "code",
   "execution_count": null,
   "metadata": {},
   "outputs": [
    {
     "data": {
      "text/plain": [
       "(tensor([ 1.5100e-01,  1.1698e-01,  2.1150e-03, -9.1059e-02, -1.4822e-01,\n",
       "          9.6155e-03,  3.2749e-01, -2.4297e-01, -1.1507e-01,  1.0507e-01,\n",
       "          2.2940e-01,  2.6945e-01,  1.3217e-01,  3.3425e-01, -1.6082e-01,\n",
       "         -1.7940e-02, -5.9592e-02,  1.5685e-01,  8.9849e-02,  6.7175e-01,\n",
       "         -2.7132e-02, -7.7167e-02, -3.7284e-04,  9.8957e-02, -8.6543e-02,\n",
       "          3.6333e-02,  9.7618e-02, -1.7878e-01,  4.6538e-01,  6.0477e-01,\n",
       "          9.4387e-02,  2.4516e-01,  1.5680e-02,  3.0959e-01, -1.6205e-01,\n",
       "         -8.7148e-02, -1.4799e-02,  7.0665e-02, -3.4731e-02, -2.0711e-01,\n",
       "          3.7936e-04,  7.3856e-01,  1.4755e-01,  7.5081e-01,  6.0751e-03,\n",
       "         -1.6065e-01,  6.7238e-01, -7.4030e-02, -2.3502e-02,  1.9748e-01,\n",
       "          2.9628e-01,  9.5324e-03, -2.6456e-03,  1.4723e+00,  4.5638e-02,\n",
       "          3.2118e-01,  3.2694e-02, -1.3012e-01,  3.4592e-01,  3.2639e-01,\n",
       "          6.4173e-03, -4.8762e-02,  4.6511e-02,  1.8684e-01]),\n",
       " tensor(0.6619, dtype=torch.float64))"
      ]
     },
     "execution_count": null,
     "metadata": {},
     "output_type": "execute_result"
    }
   ],
   "source": [
    "xb, yb = to_device(dls.one_batch())\n",
    "model.predict(xb,yb)"
   ]
  },
  {
   "cell_type": "code",
   "execution_count": null,
   "metadata": {},
   "outputs": [
    {
     "name": "stdout",
     "output_type": "stream",
     "text": [
      "Some Mother's Son (1996)\n",
      "Price Above Rubies, A (1998)\n",
      "Say Anything... (1989)\n",
      "Seventh Heaven (Le Septième ciel) (1997)\n",
      "Man Who Would Be King, The (1975)\n",
      "Romeo and Juliet (1968)\n",
      "Plan 9 from Outer Space (1958)\n",
      "Roger & Me (1989)\n",
      "Ghosts of Mississippi (1996)\n",
      "Boys of St. Vincent, The (1993)\n"
     ]
    }
   ],
   "source": [
    "_, recs = model.recommend(xb[1][0], 10)\n",
    "print('\\n'.join(dls.classes['title'].map_ids(recs)))"
   ]
  },
  {
   "cell_type": "code",
   "execution_count": null,
   "metadata": {},
   "outputs": [],
   "source": [
    "#|export\n",
    "def train(model, dls, fname=None):\n",
    "    model.fit(dls)\n",
    "    model.save(fname)\n",
    "\n",
    "def pred(model, dls, fname=None):\n",
    "    if fname: model = model.load(fname)\n",
    "    preds = [model.predict(*to_device(b)) for b in progress_bar(dls)]\n",
    "    return torch.cat(preds)\n",
    "\n",
    "def eval(model, dls, fname=None):\n",
    "    if fname: model = model.load(fname)\n",
    "    preds = [model.predict(*to_device(b)) for b in progress_bar(dls)]\n",
    "    loss = torch.stack(list(L(preds).itemgot(1))).mean()\n",
    "    return loss"
   ]
  },
  {
   "cell_type": "markdown",
   "metadata": {},
   "source": [
    "## Test"
   ]
  },
  {
   "cell_type": "code",
   "execution_count": null,
   "metadata": {},
   "outputs": [],
   "source": [
    "test_dls = dls.test_dl(df_test,bs=1024)"
   ]
  },
  {
   "cell_type": "code",
   "execution_count": null,
   "metadata": {},
   "outputs": [
    {
     "data": {
      "text/html": [
       "\n",
       "<style>\n",
       "    /* Turns off some styling */\n",
       "    progress {\n",
       "        /* gets rid of default border in Firefox and Opera. */\n",
       "        border: none;\n",
       "        /* Needs to be in here for Safari polyfill so background images work as expected. */\n",
       "        background-size: auto;\n",
       "    }\n",
       "    progress:not([value]), progress:not([value])::-webkit-progress-bar {\n",
       "        background: repeating-linear-gradient(45deg, #7e7e7e, #7e7e7e 10px, #5c5c5c 10px, #5c5c5c 20px);\n",
       "    }\n",
       "    .progress-bar-interrupted, .progress-bar-interrupted::-webkit-progress-bar {\n",
       "        background: #F44336;\n",
       "    }\n",
       "</style>\n"
      ],
      "text/plain": [
       "<IPython.core.display.HTML object>"
      ]
     },
     "metadata": {},
     "output_type": "display_data"
    },
    {
     "data": {
      "text/html": [
       "\n",
       "    <div>\n",
       "      <progress value='49' class='' max='49' style='width:300px; height:20px; vertical-align: middle;'></progress>\n",
       "      100.00% [49/49 00:20&lt;00:00]\n",
       "    </div>\n",
       "    "
      ],
      "text/plain": [
       "<IPython.core.display.HTML object>"
      ]
     },
     "metadata": {},
     "output_type": "display_data"
    },
    {
     "data": {
      "text/plain": [
       "tensor(1.6232, dtype=torch.float64)"
      ]
     },
     "execution_count": null,
     "metadata": {},
     "output_type": "execute_result"
    }
   ],
   "source": [
    "loss = eval(model,test_dls)\n",
    "loss"
   ]
  },
  {
   "cell_type": "markdown",
   "metadata": {},
   "source": [
    "## Something smarter"
   ]
  },
  {
   "cell_type": "markdown",
   "metadata": {},
   "source": []
  }
 ],
 "metadata": {
  "kernelspec": {
   "display_name": "python3",
   "language": "python",
   "name": "python3"
  }
 },
 "nbformat": 4,
 "nbformat_minor": 4
}
