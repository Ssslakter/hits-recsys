{
 "cells": [
  {
   "cell_type": "code",
   "execution_count": null,
   "metadata": {},
   "outputs": [],
   "source": [
    "#| hide\n",
    "from hits_recsys.collab import *\n",
    "import torch\n",
    "from torch import tensor"
   ]
  },
  {
   "cell_type": "markdown",
   "metadata": {},
   "source": [
    "# hits-recsys\n",
    "\n",
    "> recommender system lab from 2024 HITs ML course"
   ]
  },
  {
   "cell_type": "markdown",
   "metadata": {},
   "source": [
    "Collaborative filtration with some devops stuff"
   ]
  },
  {
   "cell_type": "markdown",
   "metadata": {},
   "source": [
    "## How to\n",
    "### Install"
   ]
  },
  {
   "cell_type": "markdown",
   "metadata": {},
   "source": [
    "To install with pip run \n",
    "```sh\n",
    "pip install https://github.com/Ssslakter/hits-recsys@main\n",
    "```"
   ]
  },
  {
   "cell_type": "markdown",
   "metadata": {},
   "source": [
    "### Train and evaluate\n",
    "```sh\n",
    "hits-recsys_cli --help\n",
    "```\n",
    "```txt\n",
    "usage: hits-recsys_cli [-h] [--model_type MODEL_TYPE] [--model MODEL] [--out OUT] optype r_path m_path\n",
    "\n",
    "positional arguments:\n",
    "  optype                   operation to peroform, one of 'train', 'eval' or 'pred'\n",
    "  r_path                   path to dataset with ratings\n",
    "  m_path                   path to dataset with movie titles\n",
    "\n",
    "options:\n",
    "  -h, --help               show this help message and exit\n",
    "  --model_type MODEL_TYPE  type of model to train, one of `collab`, `embed` (default: collab)\n",
    "  --model MODEL            path to model if not train\n",
    "  --out OUT                folder for output model, by default will save to './models' (default: ./models)\n",
    "```\n",
    "Current embedding model was trained on RTX-2060 8 epochs for about 5 minutes "
   ]
  },
  {
   "cell_type": "markdown",
   "metadata": {},
   "source": [
    "## Run web-server\n",
    "```sh\n",
    "hits-recsys_server --help\n",
    "```\n",
    "```txt\n",
    "usage: hits-recsys_server [-h] [--host HOST] [--port PORT] [--model_type MODEL_TYPE] [--model_dir MODEL_DIR] [--logs_dir LOGS_DIR]\n",
    "\n",
    "options:\n",
    "  -h, --help               show this help message and exit\n",
    "  --host HOST              (default: 127.0.0.1)\n",
    "  --port PORT              port to listen on (default: 5000)\n",
    "  --model_type MODEL_TYPE  type of model to train, one of `collab`, `embed` (default: collab)\n",
    "  --model_dir MODEL_DIR    directory to load model from (default: ./models)\n",
    "  --logs_dir LOGS_DIR      logs directory (default: ./logs)\n",
    "```"
   ]
  },
  {
   "cell_type": "markdown",
   "metadata": {},
   "source": [
    "## Contributing"
   ]
  },
  {
   "cell_type": "markdown",
   "metadata": {},
   "source": [
    "If you plan to contribute, you can install editable:\n",
    "```sh\n",
    "git clone https://github.com/Ssslakter/hits-recsys\n",
    "pip install -e \".[dev]\"\n",
    "```"
   ]
  },
  {
   "cell_type": "markdown",
   "metadata": {},
   "source": [
    "## Start server in a docker container"
   ]
  },
  {
   "cell_type": "markdown",
   "metadata": {},
   "source": [
    "To start with docker you can use [docker-compose.yaml](../docker-compose.yaml) wich would build an image and start a web-server\n",
    "```sh\n",
    "git clone https://github.com/Ssslakter/hits-recsys\n",
    "cd hits-recsys\n",
    "docker compose up\n",
    "```"
   ]
  }
 ],
 "metadata": {
  "kernelspec": {
   "display_name": "python3",
   "language": "python",
   "name": "python3"
  }
 },
 "nbformat": 4,
 "nbformat_minor": 4
}
